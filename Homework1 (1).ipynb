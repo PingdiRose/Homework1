{
 "cells": [
  {
   "cell_type": "markdown",
   "metadata": {},
   "source": [
    "1. Print out your favorite color and write comment about what you are doing above the code."
   ]
  },
  {
   "cell_type": "code",
   "execution_count": 4,
   "metadata": {},
   "outputs": [
    {
     "name": "stdout",
     "output_type": "stream",
     "text": [
      "my favorite color is pink\n"
     ]
    }
   ],
   "source": [
    "color=\"pink\"\n",
    "print(f\"my favorite color is {color:}\")"
   ]
  },
  {
   "cell_type": "markdown",
   "metadata": {},
   "source": [
    "2. Print the sumation of numbers 1 through 10"
   ]
  },
  {
   "cell_type": "code",
   "execution_count": 5,
   "metadata": {},
   "outputs": [
    {
     "name": "stdout",
     "output_type": "stream",
     "text": [
      "1\n"
     ]
    }
   ],
   "source": [
    "print(1**100)"
   ]
  },
  {
   "cell_type": "markdown",
   "metadata": {},
   "source": [
    "3. Print what 2 to the 8th power is."
   ]
  },
  {
   "cell_type": "code",
   "execution_count": null,
   "metadata": {},
   "outputs": [],
   "source": []
  },
  {
   "cell_type": "markdown",
   "metadata": {},
   "source": [
    "4. Print the remainder of 100 divided by 11. "
   ]
  },
  {
   "cell_type": "code",
   "execution_count": 6,
   "metadata": {},
   "outputs": [
    {
     "name": "stdout",
     "output_type": "stream",
     "text": [
      "1\n"
     ]
    }
   ],
   "source": [
    "x=100\n",
    "y=11\n",
    "print(x%y)"
   ]
  },
  {
   "cell_type": "markdown",
   "metadata": {},
   "source": [
    "5. What is the result of adding strings: 20, 8, 77?"
   ]
  },
  {
   "cell_type": "code",
   "execution_count": 11,
   "metadata": {},
   "outputs": [
    {
     "name": "stdout",
     "output_type": "stream",
     "text": [
      "2087\n"
     ]
    }
   ],
   "source": [
    "x=\"20\"\n",
    "y=\"8\"\n",
    "z=\"7\"\n",
    "print(x+y+z)"
   ]
  },
  {
   "cell_type": "markdown",
   "metadata": {},
   "source": [
    "6. Print out 100 divided by 5"
   ]
  },
  {
   "cell_type": "code",
   "execution_count": 12,
   "metadata": {},
   "outputs": [
    {
     "name": "stdout",
     "output_type": "stream",
     "text": [
      "20.0\n"
     ]
    }
   ],
   "source": [
    "x=100\n",
    "y=5\n",
    "print(x/y)"
   ]
  },
  {
   "cell_type": "markdown",
   "metadata": {},
   "source": [
    "7. What is the difference (subtraction) between 10/4 and 10//4?  Print out the result"
   ]
  },
  {
   "cell_type": "code",
   "execution_count": 13,
   "metadata": {},
   "outputs": [
    {
     "name": "stdout",
     "output_type": "stream",
     "text": [
      "0.5\n"
     ]
    }
   ],
   "source": [
    "x=10/4\n",
    "y=10//4\n",
    "print(x-y)"
   ]
  },
  {
   "cell_type": "markdown",
   "metadata": {},
   "source": [
    "8. Create a variable called height and store your height value there.\n",
    "Print a sentence describing your height and use the variable in the sentence as well."
   ]
  },
  {
   "cell_type": "code",
   "execution_count": 16,
   "metadata": {},
   "outputs": [
    {
     "name": "stdout",
     "output_type": "stream",
     "text": [
      "my height is 5\n"
     ]
    }
   ],
   "source": [
    "height=5\n",
    "print(\"my height is\",height)"
   ]
  },
  {
   "cell_type": "markdown",
   "metadata": {},
   "source": [
    "9. Print the same information as exercise 8 using a formatted string. "
   ]
  },
  {
   "cell_type": "code",
   "execution_count": 15,
   "metadata": {},
   "outputs": [
    {
     "name": "stdout",
     "output_type": "stream",
     "text": [
      "my height is arround 5\n"
     ]
    }
   ],
   "source": [
    "height=5\n",
    "print(f\"my height is arround {height}\")"
   ]
  },
  {
   "cell_type": "markdown",
   "metadata": {},
   "source": [
    "10. Use two different (single and double) quotes in a string to print out a sentence"
   ]
  },
  {
   "cell_type": "code",
   "execution_count": null,
   "metadata": {},
   "outputs": [],
   "source": []
  },
  {
   "cell_type": "code",
   "execution_count": null,
   "metadata": {},
   "outputs": [],
   "source": []
  },
  {
   "cell_type": "markdown",
   "metadata": {},
   "source": [
    "11. Print out Hello World! 7 times each on a new line using only one line of code."
   ]
  },
  {
   "cell_type": "code",
   "execution_count": 17,
   "metadata": {},
   "outputs": [
    {
     "name": "stdout",
     "output_type": "stream",
     "text": [
      "hello worldhello worldhello worldhello worldhello world\n"
     ]
    }
   ],
   "source": [
    "message=\"hello world\"\n",
    "print(message*5)"
   ]
  },
  {
   "cell_type": "markdown",
   "metadata": {},
   "source": [
    "12. Write a code to get two integers from a user. Then print out their summation, subtraction, multiplication, and division."
   ]
  },
  {
   "cell_type": "code",
   "execution_count": 19,
   "metadata": {},
   "outputs": [],
   "source": [
    "x=8\n",
    "y=3"
   ]
  },
  {
   "cell_type": "code",
   "execution_count": 20,
   "metadata": {},
   "outputs": [
    {
     "name": "stdout",
     "output_type": "stream",
     "text": [
      "11\n"
     ]
    }
   ],
   "source": [
    "print(x+y)"
   ]
  },
  {
   "cell_type": "code",
   "execution_count": 21,
   "metadata": {},
   "outputs": [
    {
     "name": "stdout",
     "output_type": "stream",
     "text": [
      "5\n"
     ]
    }
   ],
   "source": [
    "print(x-y)"
   ]
  },
  {
   "cell_type": "code",
   "execution_count": 22,
   "metadata": {},
   "outputs": [
    {
     "name": "stdout",
     "output_type": "stream",
     "text": [
      "24\n"
     ]
    }
   ],
   "source": [
    "print(x*y)"
   ]
  },
  {
   "cell_type": "code",
   "execution_count": 27,
   "metadata": {},
   "outputs": [
    {
     "name": "stdout",
     "output_type": "stream",
     "text": [
      "2.67\n"
     ]
    }
   ],
   "source": [
    "print(f\"{x/y:,.2f}\")"
   ]
  },
  {
   "cell_type": "code",
   "execution_count": 28,
   "metadata": {},
   "outputs": [
    {
     "name": "stdout",
     "output_type": "stream",
     "text": [
      "2.6666666666666665\n"
     ]
    }
   ],
   "source": [
    "print(x/y)"
   ]
  },
  {
   "cell_type": "markdown",
   "metadata": {},
   "source": [
    "13. You and your collegue have been tasked to write a code to get 5 numbers from a user and then print out their summation and average in a formatted string.  Your partner wrote codes below.  Now it is up to you to fix all errors."
   ]
  },
  {
   "cell_type": "code",
   "execution_count": null,
   "metadata": {},
   "outputs": [],
   "source": [
    "prompt = f\"Enter a number: \"\n",
    "\n",
    "numb1 = input(''Enter a number: \")\n",
    "numb2 = input(\"Enter a number: \")\n",
    "numb1 = input(\"Enter a number: \")\n",
    "numb2 = input(\"Enter a number: \")\n",
    "num85 = input(\"Enter a number: \"))\n",
    "\n",
    "total = numb1 + numb2 + numb3 + numb4 + numb5\n",
    "avg = total // 5\n",
    "\n",
    "print(\"{numb1} + {numb2} + {numb3} + {numb4} + {numb5} = {total}\")\n",
    "print(\"average is {total}')"
   ]
  },
  {
   "cell_type": "code",
   "execution_count": null,
   "metadata": {},
   "outputs": [],
   "source": []
  },
  {
   "cell_type": "markdown",
   "metadata": {},
   "source": [
    "14. You and your partner have been assigned to a project to write a program to calculate the amount of runoff rain on a roof from any given rainfall.  \n",
    "\n",
    "You and your partner have figured out that to calculate the runoff from any given rainfall. \n",
    "\n",
    "You need to take the dimensions of the footprint of the roof and <b>convert them to inches</b> (ex - a 50' x 20' roof is 600\" x 240\"). The dimensions should be user submitted. \n",
    "\n",
    "Then, multiply the roof dimensions by the number of inches of rainfall. As an example, 600\" x 240\" x 1\" = 144,000 cubic inches of water for an inch of rainfall. Finally, divide that result by 231 to get the number of gallons (because 1 gallon = 231 cubic inches; 144,000/231 = 623.38).\n",
    "\n",
    "Your partner started coding before getting sick and it is up to you to finish the program."
   ]
  },
  {
   "cell_type": "code",
   "execution_count": null,
   "metadata": {},
   "outputs": [],
   "source": [
    "print(\"\\nRainfall Calculation ***\\n\")\n",
    "\n",
    "width = int(\"What's roof's width in foot? \")\n",
    "length = int(\"What's roof's length in foot? \")\n",
    "rain = int(\"How much did it rain? \")\n",
    "\n",
    "\n",
    "area = width x length x rain\n",
    "\n",
    "\n"
   ]
  },
  {
   "cell_type": "code",
   "execution_count": null,
   "metadata": {},
   "outputs": [],
   "source": []
  },
  {
   "cell_type": "markdown",
   "metadata": {},
   "source": [
    "15. A program is required to get a customer’s name, a purchase amount and a discount rate (in %). The program must compute the discount amount, sales tax (6%) and the total amount due. Using one print statement, print the customer’s name, purchase amount, discount amount, sales tax and total amount due in friendly format."
   ]
  },
  {
   "cell_type": "code",
   "execution_count": null,
   "metadata": {},
   "outputs": [],
   "source": []
  },
  {
   "cell_type": "code",
   "execution_count": null,
   "metadata": {},
   "outputs": [],
   "source": []
  },
  {
   "cell_type": "code",
   "execution_count": null,
   "metadata": {},
   "outputs": [],
   "source": []
  }
 ],
 "metadata": {
  "kernelspec": {
   "display_name": "Python 3",
   "language": "python",
   "name": "python3"
  },
  "language_info": {
   "codemirror_mode": {
    "name": "ipython",
    "version": 3
   },
   "file_extension": ".py",
   "mimetype": "text/x-python",
   "name": "python",
   "nbconvert_exporter": "python",
   "pygments_lexer": "ipython3",
   "version": "3.8.8"
  }
 },
 "nbformat": 4,
 "nbformat_minor": 4
}
